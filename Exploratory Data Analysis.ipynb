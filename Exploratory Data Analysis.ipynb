{
 "cells": [
  {
   "metadata": {},
   "cell_type": "markdown",
   "source": "## Library Load",
   "id": "8bdb112ee9a928e9"
  },
  {
   "cell_type": "code",
   "id": "initial_id",
   "metadata": {
    "collapsed": true,
    "ExecuteTime": {
     "end_time": "2025-02-26T11:52:22.219726Z",
     "start_time": "2025-02-26T11:52:22.206252Z"
    }
   },
   "source": [
    "import pandas as pd\n",
    "import numpy as np \n",
    "import matplotlib.pyplot as plt\n",
    "import seaborn as sns \n",
    "import scipy\n",
    "from IPython.core.pylabtools import figsize\n",
    "from statistical_methods import Statistics\n",
    "from scipy.stats import ttest_ind"
   ],
   "outputs": [],
   "execution_count": 1
  },
  {
   "metadata": {
    "ExecuteTime": {
     "end_time": "2025-02-26T11:53:17.166789Z",
     "start_time": "2025-02-26T11:53:17.155785Z"
    }
   },
   "cell_type": "code",
   "source": [
    "x = pd.read_csv('student-mat.csv')\n",
    "df = x.copy()"
   ],
   "id": "5abfba578a885a27",
   "outputs": [],
   "execution_count": 3
  },
  {
   "metadata": {},
   "cell_type": "markdown",
   "source": "## Exploratory Data Analysis",
   "id": "a20744e811e5eb87"
  },
  {
   "metadata": {
    "ExecuteTime": {
     "end_time": "2025-02-26T11:53:22.168205Z",
     "start_time": "2025-02-26T11:53:22.154738Z"
    }
   },
   "cell_type": "code",
   "source": [
    "rows = df.shape[0]                   ##Chekcing the number of rows.\n",
    "print(f'Number of rows: {rows}')"
   ],
   "id": "cfa3fd4c2784e21e",
   "outputs": [
    {
     "name": "stdout",
     "output_type": "stream",
     "text": [
      "Number of rows: 395\n"
     ]
    }
   ],
   "execution_count": 4
  },
  {
   "metadata": {
    "ExecuteTime": {
     "end_time": "2025-02-26T11:53:31.255359Z",
     "start_time": "2025-02-26T11:53:31.243360Z"
    }
   },
   "cell_type": "code",
   "source": [
    "col = df.shape[1]                  ## Checking the number of columns.\n",
    "print(f'Number of columns: {col}')"
   ],
   "id": "dcc1769b0a0da4e2",
   "outputs": [
    {
     "name": "stdout",
     "output_type": "stream",
     "text": [
      "Number of columns: 33\n"
     ]
    }
   ],
   "execution_count": 5
  },
  {
   "metadata": {
    "ExecuteTime": {
     "end_time": "2025-02-26T11:53:47.790281Z",
     "start_time": "2025-02-26T11:53:47.774550Z"
    }
   },
   "cell_type": "code",
   "source": [
    "x = df['school'].unique()\n",
    "x = pd.Series(x)                  ## Explaining the abbreviations in our dataset.\n",
    "gp = x[0]\n",
    "ms = x[1]\n",
    "\n",
    "print(f'{gp} stands for Gabriel Pereira School')\n",
    "print(f'{ms} stands for Mousinho da Silveira School')"
   ],
   "id": "2b61e61418b51e8a",
   "outputs": [
    {
     "name": "stdout",
     "output_type": "stream",
     "text": [
      "GP stands for Gabriel Pereira School\n",
      "MS stands for Mousinho da Silveira School\n"
     ]
    }
   ],
   "execution_count": 6
  },
  {
   "metadata": {
    "ExecuteTime": {
     "end_time": "2025-02-26T11:54:01.830118Z",
     "start_time": "2025-02-26T11:54:01.814126Z"
    }
   },
   "cell_type": "code",
   "source": [
    "x = df['age'].mean()               ## Peaking a look into the mean age of our group. \n",
    "print(f'Mean age of our dataset is {round(x, 2)}.')"
   ],
   "id": "13ff9658dc525f31",
   "outputs": [
    {
     "name": "stdout",
     "output_type": "stream",
     "text": [
      "Mean age of our dataset is 16.7.\n"
     ]
    }
   ],
   "execution_count": 7
  },
  {
   "metadata": {
    "ExecuteTime": {
     "end_time": "2025-02-26T11:54:32.092807Z",
     "start_time": "2025-02-26T11:54:32.080824Z"
    }
   },
   "cell_type": "code",
   "source": [
    "x = df['address'].unique()\n",
    "x = pd.Series(x)                        ## Explaining the abbreviations in our dataset.\n",
    "        \n",
    "urban = x[0]\n",
    "rural = x[1]\n",
    "\n",
    "print(f'{urban} stands for urban address of the student.')\n",
    "print(f'{rural} stands for rural address of the student.')"
   ],
   "id": "9aab82b74501d708",
   "outputs": [
    {
     "name": "stdout",
     "output_type": "stream",
     "text": [
      "U stands for urban address of the student.\n",
      "R stands for rural address of the student.\n"
     ]
    }
   ],
   "execution_count": 8
  },
  {
   "metadata": {
    "ExecuteTime": {
     "end_time": "2025-02-26T11:54:55.295046Z",
     "start_time": "2025-02-26T11:54:55.263778Z"
    }
   },
   "cell_type": "code",
   "source": [
    "x = df.groupby('address').size().reset_index()       ## The number of rural and urban addressed students.\n",
    "x.columns = ['Address', 'Count']\n",
    "x"
   ],
   "id": "2a215d340ab3d145",
   "outputs": [
    {
     "data": {
      "text/plain": [
       "  Address  Count\n",
       "0       R     88\n",
       "1       U    307"
      ],
      "text/html": [
       "<div>\n",
       "<style scoped>\n",
       "    .dataframe tbody tr th:only-of-type {\n",
       "        vertical-align: middle;\n",
       "    }\n",
       "\n",
       "    .dataframe tbody tr th {\n",
       "        vertical-align: top;\n",
       "    }\n",
       "\n",
       "    .dataframe thead th {\n",
       "        text-align: right;\n",
       "    }\n",
       "</style>\n",
       "<table border=\"1\" class=\"dataframe\">\n",
       "  <thead>\n",
       "    <tr style=\"text-align: right;\">\n",
       "      <th></th>\n",
       "      <th>Address</th>\n",
       "      <th>Count</th>\n",
       "    </tr>\n",
       "  </thead>\n",
       "  <tbody>\n",
       "    <tr>\n",
       "      <th>0</th>\n",
       "      <td>R</td>\n",
       "      <td>88</td>\n",
       "    </tr>\n",
       "    <tr>\n",
       "      <th>1</th>\n",
       "      <td>U</td>\n",
       "      <td>307</td>\n",
       "    </tr>\n",
       "  </tbody>\n",
       "</table>\n",
       "</div>"
      ]
     },
     "execution_count": 9,
     "metadata": {},
     "output_type": "execute_result"
    }
   ],
   "execution_count": 9
  },
  {
   "metadata": {
    "ExecuteTime": {
     "end_time": "2025-02-26T11:55:19.368783Z",
     "start_time": "2025-02-26T11:55:19.337762Z"
    }
   },
   "cell_type": "code",
   "source": [
    "x = df['famsize'].unique()\n",
    "x = pd.Series(x)                           ## Explaining the abbreviations in our dataset.\n",
    "\n",
    "gt3 = x[0]\n",
    "le3 = x[1]\n",
    "\n",
    "print(f'{gt3} stands for a family size greater than 3.')\n",
    "print(f'{le3} stands for a family size less than 3.')"
   ],
   "id": "a3cb3cff82aaec1b",
   "outputs": [
    {
     "name": "stdout",
     "output_type": "stream",
     "text": [
      "GT3 stands for a family size greater than 3.\n",
      "LE3 stands for a family size less than 3.\n"
     ]
    }
   ],
   "execution_count": 11
  },
  {
   "metadata": {
    "ExecuteTime": {
     "end_time": "2025-02-26T11:55:52.588085Z",
     "start_time": "2025-02-26T11:55:52.572193Z"
    }
   },
   "cell_type": "code",
   "source": [
    "x = df.groupby('famsize').size().reset_index()        ## The number of GT3 and LE3 family sized students.\n",
    "x.columns = ['Family Size', 'Count']\n",
    "x"
   ],
   "id": "f42731a5bf95440a",
   "outputs": [
    {
     "data": {
      "text/plain": [
       "  Family Size  Count\n",
       "0         GT3    281\n",
       "1         LE3    114"
      ],
      "text/html": [
       "<div>\n",
       "<style scoped>\n",
       "    .dataframe tbody tr th:only-of-type {\n",
       "        vertical-align: middle;\n",
       "    }\n",
       "\n",
       "    .dataframe tbody tr th {\n",
       "        vertical-align: top;\n",
       "    }\n",
       "\n",
       "    .dataframe thead th {\n",
       "        text-align: right;\n",
       "    }\n",
       "</style>\n",
       "<table border=\"1\" class=\"dataframe\">\n",
       "  <thead>\n",
       "    <tr style=\"text-align: right;\">\n",
       "      <th></th>\n",
       "      <th>Family Size</th>\n",
       "      <th>Count</th>\n",
       "    </tr>\n",
       "  </thead>\n",
       "  <tbody>\n",
       "    <tr>\n",
       "      <th>0</th>\n",
       "      <td>GT3</td>\n",
       "      <td>281</td>\n",
       "    </tr>\n",
       "    <tr>\n",
       "      <th>1</th>\n",
       "      <td>LE3</td>\n",
       "      <td>114</td>\n",
       "    </tr>\n",
       "  </tbody>\n",
       "</table>\n",
       "</div>"
      ]
     },
     "execution_count": 12,
     "metadata": {},
     "output_type": "execute_result"
    }
   ],
   "execution_count": 12
  },
  {
   "metadata": {
    "ExecuteTime": {
     "end_time": "2025-02-26T11:56:13.008447Z",
     "start_time": "2025-02-26T11:56:12.992359Z"
    }
   },
   "cell_type": "code",
   "source": [
    "x = df.groupby('Pstatus').size().reset_index()\n",
    "x.columns = ['Parents Cohabitation Status', 'Count']        ## Count of students whos parents live together or not. \n",
    "x = pd.DataFrame(x) \n",
    "\n",
    "def name_change(x):\n",
    "    if x == 'A':\n",
    "        return 'Alone'\n",
    "    else:\n",
    "        return 'Together'\n",
    "\n",
    "x['Parents Cohabitation Status'] = x['Parents Cohabitation Status'].apply(name_change)\n",
    "x"
   ],
   "id": "6ec69d55f1e286e",
   "outputs": [
    {
     "data": {
      "text/plain": [
       "  Parents Cohabitation Status  Count\n",
       "0                       Alone     41\n",
       "1                    Together    354"
      ],
      "text/html": [
       "<div>\n",
       "<style scoped>\n",
       "    .dataframe tbody tr th:only-of-type {\n",
       "        vertical-align: middle;\n",
       "    }\n",
       "\n",
       "    .dataframe tbody tr th {\n",
       "        vertical-align: top;\n",
       "    }\n",
       "\n",
       "    .dataframe thead th {\n",
       "        text-align: right;\n",
       "    }\n",
       "</style>\n",
       "<table border=\"1\" class=\"dataframe\">\n",
       "  <thead>\n",
       "    <tr style=\"text-align: right;\">\n",
       "      <th></th>\n",
       "      <th>Parents Cohabitation Status</th>\n",
       "      <th>Count</th>\n",
       "    </tr>\n",
       "  </thead>\n",
       "  <tbody>\n",
       "    <tr>\n",
       "      <th>0</th>\n",
       "      <td>Alone</td>\n",
       "      <td>41</td>\n",
       "    </tr>\n",
       "    <tr>\n",
       "      <th>1</th>\n",
       "      <td>Together</td>\n",
       "      <td>354</td>\n",
       "    </tr>\n",
       "  </tbody>\n",
       "</table>\n",
       "</div>"
      ]
     },
     "execution_count": 13,
     "metadata": {},
     "output_type": "execute_result"
    }
   ],
   "execution_count": 13
  },
  {
   "metadata": {
    "ExecuteTime": {
     "end_time": "2025-02-26T11:56:52.108895Z",
     "start_time": "2025-02-26T11:56:52.092900Z"
    }
   },
   "cell_type": "code",
   "source": [
    "x = df.groupby('guardian').size().sort_values(ascending=False).reset_index()    ## The count of students and their respective guardians. \n",
    "x.columns = ['Guardian', 'Count']\n",
    "x"
   ],
   "id": "4cbfa1b876522fd8",
   "outputs": [
    {
     "data": {
      "text/plain": [
       "  Guardian  Count\n",
       "0   mother    273\n",
       "1   father     90\n",
       "2    other     32"
      ],
      "text/html": [
       "<div>\n",
       "<style scoped>\n",
       "    .dataframe tbody tr th:only-of-type {\n",
       "        vertical-align: middle;\n",
       "    }\n",
       "\n",
       "    .dataframe tbody tr th {\n",
       "        vertical-align: top;\n",
       "    }\n",
       "\n",
       "    .dataframe thead th {\n",
       "        text-align: right;\n",
       "    }\n",
       "</style>\n",
       "<table border=\"1\" class=\"dataframe\">\n",
       "  <thead>\n",
       "    <tr style=\"text-align: right;\">\n",
       "      <th></th>\n",
       "      <th>Guardian</th>\n",
       "      <th>Count</th>\n",
       "    </tr>\n",
       "  </thead>\n",
       "  <tbody>\n",
       "    <tr>\n",
       "      <th>0</th>\n",
       "      <td>mother</td>\n",
       "      <td>273</td>\n",
       "    </tr>\n",
       "    <tr>\n",
       "      <th>1</th>\n",
       "      <td>father</td>\n",
       "      <td>90</td>\n",
       "    </tr>\n",
       "    <tr>\n",
       "      <th>2</th>\n",
       "      <td>other</td>\n",
       "      <td>32</td>\n",
       "    </tr>\n",
       "  </tbody>\n",
       "</table>\n",
       "</div>"
      ]
     },
     "execution_count": 14,
     "metadata": {},
     "output_type": "execute_result"
    }
   ],
   "execution_count": 14
  },
  {
   "metadata": {},
   "cell_type": "markdown",
   "source": "#### Moving onto data visualization with Matplotlib. ",
   "id": "9c4631720d2148ff"
  }
 ],
 "metadata": {
  "kernelspec": {
   "display_name": "Python 3",
   "language": "python",
   "name": "python3"
  },
  "language_info": {
   "codemirror_mode": {
    "name": "ipython",
    "version": 2
   },
   "file_extension": ".py",
   "mimetype": "text/x-python",
   "name": "python",
   "nbconvert_exporter": "python",
   "pygments_lexer": "ipython2",
   "version": "2.7.6"
  }
 },
 "nbformat": 4,
 "nbformat_minor": 5
}
